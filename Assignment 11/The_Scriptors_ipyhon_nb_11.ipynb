{
 "metadata": {
  "name": "",
  "signature": "sha256:391ed12574dde68a24fe9d4c02bcfd9e21a85d2e225156846eca3c57176d4ca7"
 },
 "nbformat": 3,
 "nbformat_minor": 0,
 "worksheets": [
  {
   "cells": [
    {
     "cell_type": "code",
     "collapsed": false,
     "input": [
      "import os\n",
      "from osgeo import ogr,osr\n",
      "import folium\n",
      "import subprocess\n",
      "\n",
      "# set wd for linux\n",
      "os.chdir('data')\n",
      "os.getcwd()\n",
      "\n",
      "#set wd for windows\n",
      "#os.chdir('.\\data')\n",
      "\n",
      "#iniatilise variables\n",
      "go = True\n",
      "kml=\"\"\n",
      "coords = []\n",
      "\n",
      "# Create shapefile\n",
      "fn = \"points_TheScriptors.shp\"\n",
      "layername = \"The_Scriptors\"\n",
      "\n",
      "## Choose driver\n",
      "driverName = \"ESRI Shapefile\"\n",
      "drv = ogr.GetDriverByName( driverName )\n",
      "ds = drv.CreateDataSource(fn)\n",
      "\n",
      "## Create spatial reference\n",
      "spatialReference = osr.SpatialReference()\n",
      "spatialReference.ImportFromProj4('+proj=longlat +ellps=WGS84 +datum=WGS84 +no_defs')\n",
      "\n",
      "## Create Layer\n",
      "layer=ds.CreateLayer(layername, spatialReference, ogr.wkbPoint)\n",
      "\n",
      "## Test list or manual input\n",
      "TestOrAuto = int(raw_input(\"0 for automatic list or 1 for manual input: \"))\n",
      "if TestOrAuto == 0:\n",
      "    coords = [(51.987402, 5.666310), (51.981757, 5.667865)]\n",
      "else:\n",
      "    coords = []\n",
      "    while go:\n",
      "        lat = float(raw_input(\"Enter latitude or 0 to stop: \"))\n",
      "        if lat == 0:\n",
      "            go = False\n",
      "        else:\n",
      "            lon = float(raw_input(\"Enter longitude: \"))\n",
      "        coords += [(lat, lon)]\n",
      "print coords\n",
      "\n",
      "for i in coords:\n",
      "    lat, lon = i\n",
      "    ## Create points\n",
      "    point = ogr.Geometry(ogr.wkbPoint)\n",
      "\n",
      "    ## Set points\n",
      "    point.SetPoint(0,lon,lat)\n",
      "\n",
      "    ## Create feature\n",
      "    layerDefinition = layer.GetLayerDefn()\n",
      "    feature = ogr.Feature(layerDefinition)\n",
      "    feature.SetGeometry(point)\n",
      "    layer.CreateFeature(feature)\n",
      "\n",
      "    #Create kml\n",
      "    kml += \"<Placemark>\"+point.ExportToKML()+\"</Placemark>\"\n",
      "\n",
      "kml=\"<Document>\"+kml+\"</Document>\"\n",
      "\n",
      "file = open(\"test.kml\",\"w\")\n",
      "file.write(kml)\n",
      "file.close()\n",
      "\n",
      "ds.Destroy()\n",
      "\n",
      "## For windows\n",
      "subprocess.Popen(\"pwd\")\n",
      "subprocess.call([\"ogr2ogr\", \"-f\", \"GeoJSON\", \"-t_srs\", \"crs:84\",\"points_TheScriptors.geojson\", \"points_TheScriptors.shp\"])\n",
      "\n",
      "pointsGeo=os.path.join(\"points_TheScriptors.geojson\")\n",
      "map_points = folium.Map(location=[52,5.7], zoom_start=10)\n",
      "map_points.choropleth(geo_path=pointsGeo)\n",
      "map_points.save('points_TheScriptors.html')\n",
      "\n",
      "print \"File succesfully saved in the data folder\""
     ],
     "language": "python",
     "metadata": {},
     "outputs": [
      {
       "name": "stdout",
       "output_type": "stream",
       "stream": "stdout",
       "text": [
        "0 for automatic list or 1 for manual input: 0\n"
       ]
      },
      {
       "output_type": "stream",
       "stream": "stdout",
       "text": [
        "[(51.987402, 5.66631), (51.981757, 5.667865)]\n",
        "File succesfully saved in the data folder"
       ]
      },
      {
       "output_type": "stream",
       "stream": "stdout",
       "text": [
        "\n"
       ]
      }
     ],
     "prompt_number": 1
    },
    {
     "cell_type": "code",
     "collapsed": false,
     "input": [],
     "language": "python",
     "metadata": {},
     "outputs": []
    }
   ],
   "metadata": {}
  }
 ]
}