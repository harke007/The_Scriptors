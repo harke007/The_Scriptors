{
 "metadata": {
  "name": "",
  "signature": "sha256:4e704399234a8c9ff18f03a2cf1c00116c978e44684098c271a8b7c09d86c81d"
 },
 "nbformat": 3,
 "nbformat_minor": 0,
 "worksheets": [
  {
   "cells": [
    {
     "cell_type": "heading",
     "level": 1,
     "metadata": {},
     "source": [
      "The Scriptors"
     ]
    },
    {
     "cell_type": "heading",
     "level": 2,
     "metadata": {},
     "source": [
      "24-01-2017"
     ]
    },
    {
     "cell_type": "heading",
     "level": 3,
     "metadata": {},
     "source": [
      "Import Libraries"
     ]
    },
    {
     "cell_type": "code",
     "collapsed": false,
     "input": [
      "import os\n",
      "import tarfile\n",
      "import urllib\n",
      "import re\n",
      "import subprocess\n",
      "import numpy as np\n",
      "from osgeo import gdal\n",
      "from osgeo.gdalconst import GA_ReadOnly, GDT_Float32"
     ],
     "language": "python",
     "metadata": {},
     "outputs": [],
     "prompt_number": 2
    },
    {
     "cell_type": "heading",
     "level": 3,
     "metadata": {},
     "source": [
      "Make and use data folder"
     ]
    },
    {
     "cell_type": "code",
     "collapsed": false,
     "input": [
      "path = r'./data'\n",
      "if not os.path.exists(path):\n",
      "    os.makedirs(path)\n",
      "os.chdir('./data')"
     ],
     "language": "python",
     "metadata": {},
     "outputs": [],
     "prompt_number": 3
    },
    {
     "cell_type": "heading",
     "level": 3,
     "metadata": {},
     "source": [
      "Download data"
     ]
    },
    {
     "cell_type": "code",
     "collapsed": false,
     "input": [
      "url = 'https://www.dropbox.com/s/zb7nrla6fqi1mq4/LC81980242014260-SC20150123044700.tar.gz?dl=1'\n",
      "fname = \"data.tar.gz\"\n",
      "urllib.urlretrieve (url, fname)"
     ],
     "language": "python",
     "metadata": {},
     "outputs": [
      {
       "metadata": {},
       "output_type": "pyout",
       "prompt_number": 4,
       "text": [
        "('data.tar.gz', <httplib.HTTPMessage instance at 0x7fa9a0073f80>)"
       ]
      }
     ],
     "prompt_number": 4
    },
    {
     "cell_type": "heading",
     "level": 3,
     "metadata": {},
     "source": [
      "Untar"
     ]
    },
    {
     "cell_type": "code",
     "collapsed": false,
     "input": [
      "tar = tarfile.open(fname, \"r:gz\")\n",
      "tar.extractall()\n",
      "tar.close()"
     ],
     "language": "python",
     "metadata": {},
     "outputs": [],
     "prompt_number": 5
    },
    {
     "cell_type": "heading",
     "level": 3,
     "metadata": {},
     "source": [
      "Remove all files but tif's of band 4 and 5"
     ]
    },
    {
     "cell_type": "code",
     "collapsed": false,
     "input": [
      "for f in os.listdir(\".\"):\n",
      "    if not re.match(\".*band4.tif\", f) and not re.match(\".*band5.tif\", f):\n",
      "        os.remove(f)"
     ],
     "language": "python",
     "metadata": {},
     "outputs": [],
     "prompt_number": 6
    },
    {
     "cell_type": "heading",
     "level": 3,
     "metadata": {},
     "source": [
      "NDWI function"
     ]
    },
    {
     "cell_type": "code",
     "collapsed": false,
     "input": [
      "def CalcNDWI(FilenameBand4, FilenameBand5, filename):\n",
      "    band4gdal = gdal.Open(FilenameBand4)\n",
      "    band5gdal = gdal.Open(FilenameBand5)\n",
      "    \n",
      "    # Read raster data\n",
      "    band4arr = band4gdal.ReadAsArray(0, 0, band4gdal.RasterXSize, band4gdal.RasterYSize)\n",
      "    band5arr = band5gdal.ReadAsArray(0, 0, band5gdal.RasterXSize, band5gdal.RasterYSize)\n",
      "    # Set data type\n",
      "    band4arr=band4arr.astype(np.float32)\n",
      "    band5arr=band5arr.astype(np.float32)\n",
      "\n",
      "    # Derive the NDWI\n",
      "    ## Create mask array\n",
      "    mask = np.greater(band4arr+band5arr,0)\n",
      "    # set np.errstate to avoid warning of invalid values (i.e. NaN values) in the divide \n",
      "    with np.errstate(invalid='ignore'):\n",
      "        NDWI = np.choose(mask,(-99,(band4arr-band5arr)/(band4arr+band5arr)))\n",
      "    \n",
      "    # Add .tif extension to filename\n",
      "    filename += \".tif\"\n",
      "    \n",
      "    # Write the result to disk\n",
      "    driver = gdal.GetDriverByName('GTiff')\n",
      "    outDataSet = driver.Create(filename, band4gdal.RasterXSize, band4gdal.RasterYSize, 1, GDT_Float32)\n",
      "    outBand = outDataSet.GetRasterBand(1)\n",
      "    outBand.WriteArray(NDWI,0,0)\n",
      "    outBand.SetNoDataValue(-99)\n",
      "    outDataSet.SetProjection(band4gdal.GetProjection())\n",
      "    outDataSet.SetGeoTransform(band4gdal.GetGeoTransform())\n",
      "    outBand.FlushCache()\n",
      "    outDataSet.FlushCache()"
     ],
     "language": "python",
     "metadata": {},
     "outputs": [],
     "prompt_number": 7
    },
    {
     "cell_type": "heading",
     "level": 3,
     "metadata": {},
     "source": [
      "Reprojection function"
     ]
    },
    {
     "cell_type": "code",
     "collapsed": false,
     "input": [
      "def ReprojectResult(InputFile, OutputFile, EPSGNo):\n",
      "    InputFile += \".tif\"\n",
      "    OutputFile += \".tif\"\n",
      "    EPSG=\"EPSG:\"+EPSGNo\n",
      "    # Reproject result\n",
      "    subprocess.call([\"gdalwarp\", \"-t_srs\", EPSG, InputFile, OutputFile])"
     ],
     "language": "python",
     "metadata": {},
     "outputs": [],
     "prompt_number": 8
    },
    {
     "cell_type": "heading",
     "level": 3,
     "metadata": {},
     "source": [
      "Call functions"
     ]
    },
    {
     "cell_type": "code",
     "collapsed": false,
     "input": [
      "CalcNDWI (\"LC81980242014260LGN00_sr_band4.tif\", \"LC81980242014260LGN00_sr_band5.tif\", \"NDWI\")\n",
      "ReprojectResult(\"NDWI\",\"NDWI_ll\",\"4326\")"
     ],
     "language": "python",
     "metadata": {},
     "outputs": [],
     "prompt_number": 10
    },
    {
     "cell_type": "code",
     "collapsed": false,
     "input": [],
     "language": "python",
     "metadata": {},
     "outputs": []
    }
   ],
   "metadata": {}
  }
 ]
}