{
 "metadata": {
  "name": "",
  "signature": "sha256:a13b8a21e51cff6cf9e0786beea7265edd93e711ae57663ce1891435d39e88f9"
 },
 "nbformat": 3,
 "nbformat_minor": 0,
 "worksheets": [
  {
   "cells": [
    {
     "cell_type": "heading",
     "level": 1,
     "metadata": {},
     "source": [
      "Import libraries"
     ]
    },
    {
     "cell_type": "code",
     "collapsed": false,
     "input": [
      "import os\n",
      "from osgeo import ogr,osr\n",
      "import folium\n",
      "import subprocess\n",
      "\n"
     ],
     "language": "python",
     "metadata": {},
     "outputs": [],
     "prompt_number": 1
    },
    {
     "cell_type": "heading",
     "level": 1,
     "metadata": {},
     "source": [
      "Preprocessing"
     ]
    },
    {
     "cell_type": "code",
     "collapsed": false,
     "input": [
      "# set wd for linux\n",
      "os.chdir('./data')\n",
      "os.getcwd()\n",
      "\n",
      "#set wd for windows\n",
      "#os.chdir('.\\data')\n",
      "\n",
      "#iniatilise variables\n",
      "go = True\n",
      "kml=\"\"\n",
      "coords = []\n",
      "\n",
      "# Create shapefile\n",
      "fn = \"points_TheScriptors.shp\"\n",
      "layername = \"The_Scriptors\"\n",
      "\n",
      "## Choose driver\n",
      "driverName = \"ESRI Shapefile\"\n",
      "drv = ogr.GetDriverByName( driverName )\n",
      "ds = drv.CreateDataSource(fn)\n",
      "\n",
      "## Create spatial reference\n",
      "spatialReference = osr.SpatialReference()\n",
      "spatialReference.ImportFromProj4('+proj=longlat +ellps=WGS84 +datum=WGS84 +no_defs')\n",
      "\n",
      "## Create Layer\n",
      "layer=ds.CreateLayer(layername, spatialReference, ogr.wkbPoint)"
     ],
     "language": "python",
     "metadata": {},
     "outputs": [],
     "prompt_number": 2
    },
    {
     "cell_type": "heading",
     "level": 1,
     "metadata": {},
     "source": [
      "Ask user if they want to run code with own coordinates or sample coordinates"
     ]
    },
    {
     "cell_type": "code",
     "collapsed": false,
     "input": [
      "TestOrAuto = int(raw_input(\"0 for automatic list or 1 for manual input: \"))\n",
      "if TestOrAuto == 0:\n",
      "    coords = [(51.987402, 5.666310), (51.981757, 5.667865)]\n",
      "else:\n",
      "    coords = []\n",
      "    while go:\n",
      "        lat = float(raw_input(\"Enter latitude or 0 to stop: \"))\n",
      "        if lat == 0:\n",
      "            go = False\n",
      "        else:\n",
      "            lon = float(raw_input(\"Enter longitude: \"))\n",
      "        coords += [(lat, lon)]\n",
      "print coords\n",
      "## manually move to the next cell, otherwise it will keep asking for input"
     ],
     "language": "python",
     "metadata": {},
     "outputs": [
      {
       "name": "stdout",
       "output_type": "stream",
       "stream": "stdout",
       "text": [
        "0 for automatic list or 1 for manual input: 0\n"
       ]
      },
      {
       "output_type": "stream",
       "stream": "stdout",
       "text": [
        "[(51.987402, 5.66631), (51.981757, 5.667865)]\n"
       ]
      }
     ],
     "prompt_number": 3
    },
    {
     "cell_type": "heading",
     "level": 1,
     "metadata": {},
     "source": [
      "Create maps"
     ]
    },
    {
     "cell_type": "code",
     "collapsed": false,
     "input": [
      "\n",
      "for i in coords:\n",
      "    lat, lon = i\n",
      "    ## Create points\n",
      "    point = ogr.Geometry(ogr.wkbPoint)\n",
      "\n",
      "    ## Set points\n",
      "    point.SetPoint(0,lon,lat)\n",
      "\n",
      "    ## Create feature\n",
      "    layerDefinition = layer.GetLayerDefn()\n",
      "    feature = ogr.Feature(layerDefinition)\n",
      "    feature.SetGeometry(point)\n",
      "    layer.CreateFeature(feature)\n",
      "\n",
      "    #Create kml\n",
      "    kml += \"<Placemark>\"+point.ExportToKML()+\"</Placemark>\"\n",
      "\n",
      "kml=\"<Document>\"+kml+\"</Document>\"\n",
      "\n",
      "file = open(\"test.kml\",\"w\")\n",
      "file.write(kml)\n",
      "file.close()\n",
      "\n",
      "ds.Destroy()\n",
      "\n",
      "subprocess.call([\"ogr2ogr\", \"-f\", \"GeoJSON\", \"-t_srs\", \"crs:84\",\"points_TheScriptors.geojson\", \"points_TheScriptors.shp\"])\n",
      "\n",
      "pointsGeo=os.path.join(\"points_TheScriptors.geojson\")\n",
      "map_points = folium.Map(location=[52,5.7], zoom_start=10)\n",
      "map_points.choropleth(geo_path=pointsGeo)\n",
      "map_points.save('points_TheScriptors.html')\n",
      "\n",
      "print \"File succesfully saved in the data folder\""
     ],
     "language": "python",
     "metadata": {},
     "outputs": [
      {
       "output_type": "stream",
       "stream": "stdout",
       "text": [
        "File succesfully saved in the data folder\n"
       ]
      }
     ],
     "prompt_number": 4
    },
    {
     "cell_type": "code",
     "collapsed": false,
     "input": [],
     "language": "python",
     "metadata": {},
     "outputs": []
    }
   ],
   "metadata": {}
  }
 ]
}